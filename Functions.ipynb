{
  "nbformat": 4,
  "nbformat_minor": 0,
  "metadata": {
    "colab": {
      "provenance": []
    },
    "kernelspec": {
      "name": "python3",
      "display_name": "Python 3"
    },
    "language_info": {
      "name": "python"
    }
  },
  "cells": [
    {
      "cell_type": "markdown",
      "source": [
        "# Functions"
      ],
      "metadata": {
        "id": "w2J9UOuiM5Wc"
      }
    },
    {
      "cell_type": "markdown",
      "source": [
        "1.  What is the difference between a function and a method in Python?\n",
        "    - a function is independent and can be called from anywhere, while a method is tied to a class or object and must be called on that object or within that class.\n",
        "2. second question\n",
        "   - this is answer for second question"
      ],
      "metadata": {
        "id": "wcovtf4sM-s4"
      }
    },
    {
      "cell_type": "code",
      "execution_count": 2,
      "metadata": {
        "colab": {
          "base_uri": "https://localhost:8080/",
          "height": 35
        },
        "id": "sCjbbIAsM04u",
        "outputId": "351d276a-6724-43c8-d6da-e85d2a5c7267"
      },
      "outputs": [
        {
          "output_type": "execute_result",
          "data": {
            "text/plain": [
              "'\\nthis is answer \\n'"
            ],
            "application/vnd.google.colaboratory.intrinsic+json": {
              "type": "string"
            }
          },
          "metadata": {},
          "execution_count": 2
        }
      ],
      "source": [
        "# question\n",
        "\n",
        "'''\n",
        "this is answer\n",
        "'''\n",
        "\"\"\"\n",
        "this is answer\n",
        "\"\"\""
      ]
    },
    {
      "cell_type": "code",
      "source": [],
      "metadata": {
        "id": "PooT4xRfNrQj"
      },
      "execution_count": null,
      "outputs": []
    }
  ]
}